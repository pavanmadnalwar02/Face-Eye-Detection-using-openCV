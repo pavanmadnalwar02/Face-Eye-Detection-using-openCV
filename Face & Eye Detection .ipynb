{
 "cells": [
  {
   "cell_type": "code",
   "execution_count": 4,
   "id": "009e3d26-4c0e-4193-9606-ede85f22af9b",
   "metadata": {},
   "outputs": [],
   "source": [
    "# import libararies\n",
    "import cv2\n",
    "import numpy as np\n",
    "import matplotlib.pyplot as plt\n",
    "\n",
    "import warnings\n",
    "warnings.filterwarnings('ignore')"
   ]
  },
  {
   "cell_type": "markdown",
   "id": "ff01b0cf-5a7c-4976-ad61-07d79954e354",
   "metadata": {},
   "source": [
    "# Face and Eye Detection using OpenCV "
   ]
  },
  {
   "cell_type": "code",
   "execution_count": 7,
   "id": "cd056f50-c9f3-48f0-aad1-c69a7d4fb9f3",
   "metadata": {},
   "outputs": [],
   "source": [
    "face_classifier=cv2.CascadeClassifier('HaarCascades/haarcascade_frontalface_default.xml')\n",
    "eye_classifier=cv2.CascadeClassifier('HaarCascades/haarcascade_eye.xml')\n",
    "image=cv2.imread(r'C:\\Users\\pavan\\Pictures/passphoto.jpg',1)   # image path\n",
    "resized_image=cv2.resize(image,(500,500))\n",
    "gray=cv2.cvtColor(resized_image,cv2.COLOR_BGR2GRAY)\n",
    "faces=face_classifier.detectMultiScale(gray,1.3,5)\n",
    "if faces is():\n",
    "    print('NO Face Found')\n",
    "for(x,y,w,h)in faces:\n",
    "    cv2.rectangle(resized_image,(x,y),(x+w,y+h),(255,0,0),2)\n",
    "    roi_gray=gray[y:y+h,x:x+w]\n",
    "    roi_color=resized_image[y:y+h,x:x+w]\n",
    "    eyes=eye_classifier.detectMultiScale(roi_gray)\n",
    "    for(ex,ey,ew,eh)in eyes:\n",
    "        cv2.rectangle(roi_color,(ex,ey),(ex+ew,ey+eh),(0,255,0),2)\n",
    "cv2.imshow('image',resized_image)\n",
    "cv2.waitKey(0)\n",
    "cv2.destroyAllWindows()"
   ]
  },
  {
   "cell_type": "markdown",
   "id": "08ff78c1-2783-4f77-8856-d257d1491e6d",
   "metadata": {},
   "source": [
    "# Face and Eye dectection using live webcam"
   ]
  },
  {
   "cell_type": "code",
   "execution_count": null,
   "id": "a7a87958-714e-4494-aae3-07eac115fee4",
   "metadata": {},
   "outputs": [],
   "source": [
    "face_classifier=cv2.CascadeClassifier('HaarCascades/haarcascade_frontalface_default.xml')\n",
    "eye_classifier=cv2.CascadeClassifier('HaarCascades/haarcascade_eye.xml')\n",
    "def detect(gray,frame):\n",
    "    faces=face_classifier.detectMultiScale(gray,1.3,5)\n",
    "    for (x,y,w,h) in faces:\n",
    "        cv2.rectangle(frame,(x,y),(x+w,y+h),(255,255,0),2)\n",
    "        roi_gray=gray[y:y+h,x:x+w]\n",
    "        roi_color=frame[y:y+h,x:x+w]\n",
    "        eyes=eye_classifier.detectMultiScale(roi_gray,1.1,3)\n",
    "        for (ex,ey,ew,eh)in eyes:\n",
    "            cv2.rectangle(roi_color,(ex,ey),(ex+ew,ey+eh),(0,255,0),2)\n",
    "    return frame\n",
    "\n",
    "# Doing face recongnition with the webcam\n",
    "video=cv2.VideoCapture(0)\n",
    "while True:\n",
    "    check,frame=video.read()\n",
    "    gray=cv2.cvtColor(frame,cv2.COLOR_BGR2GRAY)\n",
    "    canvas=detect(gray,frame)\n",
    "    cv2.imshow('Video',canvas)\n",
    "    if cv2.waitKey()==ord('q'):\n",
    "        break\n",
    "\n",
    "\n",
    "video.release()\n",
    "cv2.destoryAllWindows()"
   ]
  }
 ],
 "metadata": {
  "kernelspec": {
   "display_name": "Python [conda env:base] *",
   "language": "python",
   "name": "conda-base-py"
  },
  "language_info": {
   "codemirror_mode": {
    "name": "ipython",
    "version": 3
   },
   "file_extension": ".py",
   "mimetype": "text/x-python",
   "name": "python",
   "nbconvert_exporter": "python",
   "pygments_lexer": "ipython3",
   "version": "3.12.4"
  }
 },
 "nbformat": 4,
 "nbformat_minor": 5
}
